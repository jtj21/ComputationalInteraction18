{
 "cells": [
  {
   "cell_type": "markdown",
   "metadata": {
    "colab_type": "text",
    "id": "2jLn86rurBGf"
   },
   "source": [
    "<img src=\"data/banner.jpg\" width=\"100%\">\n",
    "\n",
    "---------------\n",
    "Day 4 of the [*ACM SIGCHI Summer School on Computational Interaction*](https://www-edc.eng.cam.ac.uk/summerschool). August 2018, in Cambridge, UK.\n",
    "\n",
    "# Deep Learning - Part III/III\n",
    "\n",
    "In the last part of this course, we will be using convolutional neural networks (CNNs) to do even better on our eye gaze estimation task. It is beneficial for this task to have access to an environment which offers graphical processing units (GPUs), so we have created a [Google Collaboratory notebook (click to open)](https://colab.research.google.com/drive/1caTlzmwr6LKSI59BwydX-zz6BVQENI4s)."
   ]
  },
  {
   "cell_type": "markdown",
   "metadata": {},
   "source": [
    "To get started immediately, click on **Open in Playground**:\n",
    "![](data/colab_click_on_playground.jpg)"
   ]
  },
  {
   "cell_type": "markdown",
   "metadata": {},
   "source": [
    "Make sure that you have a GPU available by clicking **Runtime - Check runtime type** from the menu bar. *Hardware accelerator* should be set to **GPU**.\n",
    "![](data/colab_check_gpu.jpg)"
   ]
  },
  {
   "cell_type": "markdown",
   "metadata": {},
   "source": [
    "Note that any changes you make in *playground mode* is not saved. If you'd like to save your changes, click on **Copy to Drive**.\n",
    "You will need to login to a Google account for this.\n",
    "![](data/colab_save_to_drive.jpg)"
   ]
  }
 ],
 "metadata": {
  "colab": {
   "collapsed_sections": [],
   "default_view": {},
   "name": "chi-course-2018-eye-gaze.ipynb",
   "provenance": [],
   "version": "0.3.2",
   "views": {}
  },
  "kernelspec": {
   "display_name": "Python 3",
   "language": "python",
   "name": "python3"
  },
  "language_info": {
   "codemirror_mode": {
    "name": "ipython",
    "version": 3
   },
   "file_extension": ".py",
   "mimetype": "text/x-python",
   "name": "python",
   "nbconvert_exporter": "python",
   "pygments_lexer": "ipython3",
   "version": "3.6.3"
  }
 },
 "nbformat": 4,
 "nbformat_minor": 1
}
