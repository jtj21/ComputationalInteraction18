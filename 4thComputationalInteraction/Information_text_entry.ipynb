{
 "cells": [
  {
   "cell_type": "code",
   "execution_count": 8,
   "metadata": {
    "collapsed": true
   },
   "outputs": [],
   "source": [
    "# Text entry with 6 keys: A,S,K,L, space and backspace\n",
    "\n",
    "# type only \n",
    "\n",
    "import numpy as np\n",
    "import statistics\n",
    "import math\n",
    "import time\n",
    "import stringdist\n",
    "from operator import itemgetter\n",
    "import tkinter as tk\n",
    "from itertools import combinations\n",
    "import ipywidgets as widgets"
   ]
  },
  {
   "cell_type": "code",
   "execution_count": 9,
   "metadata": {},
   "outputs": [
    {
     "data": {
      "application/vnd.jupyter.widget-view+json": {
       "model_id": "bc266cc9a97046fb8672deaad07158fc"
      }
     },
     "metadata": {},
     "output_type": "display_data"
    }
   ],
   "source": [
    "widgets.HTMLMath(\n",
    "    value=r\"Compute entropy with probability: $$H(X) = -\\sum_{i=1}^{n} P_{i} \\log P_{i}$$\"\n",
    ")"
   ]
  },
  {
   "cell_type": "code",
   "execution_count": 10,
   "metadata": {
    "collapsed": true
   },
   "outputs": [],
   "source": [
    "\n",
    "# To compute entropy with probability\n",
    "\n",
    "def H(List):\n",
    "    sum = 0\n",
    "    for i in range(len(List)):\n",
    "        if List[i] != 0: \n",
    "            sum = sum + List[i] * math.log(List[i],2)\n",
    "    return -sum"
   ]
  },
  {
   "cell_type": "code",
   "execution_count": 11,
   "metadata": {},
   "outputs": [
    {
     "data": {
      "application/vnd.jupyter.widget-view+json": {
       "model_id": "155e3ad8e1754f47b3f9f3b8846e9925"
      }
     },
     "metadata": {},
     "output_type": "display_data"
    }
   ],
   "source": [
    "widgets.HTMLMath(\n",
    "    value=r\"In Info_Measure, we compute equivocation: $$H(X_{1}, ...,X_{m}|Y_{1},...Y_{m}) = \\sum_{i=1}^{m} H(X_{i}|X_{i-1}, Y_{i}, Y_{i-1})=H(X_{1}|Y_{1}) + H(X_{2}|X_{1}, Y_{1}, Y_{2}) +...+ H(X_{m}|X_{m-1}, Y_{m-1}, Y_{m})$$ and mutual information: $$I(X_{1}, X_{2},...,X_{m}|Y_{1}, Y_{2},...,Y_{m})= H(X_{1}, X_{2},...,X_{m}) - H(X_{1}, X_{2},...,X_{m}|Y_{1}, Y_{2},...,Y_{m})$$\"\n",
    ")"
   ]
  },
  {
   "cell_type": "code",
   "execution_count": 15,
   "metadata": {
    "collapsed": true
   },
   "outputs": [],
   "source": [
    "# Get the probability of a single character and conditional probability conditioning on one previous character\n",
    "\n",
    "def Info_Measure(List, sen, Y1, t):\n",
    "    char_unique = set(List)\n",
    "    single_pro = []\n",
    "    comb_pro = []\n",
    "\n",
    "    for cha in char_unique:\n",
    "        single_pro.append([cha,list(List).count(cha)/len(list(List))])\n",
    "\n",
    "    #print(single_pro)\n",
    "    entro_h1 = H(list(map(itemgetter(1), single_pro)))\n",
    "\n",
    "    unique = []\n",
    "\n",
    "    for go in range(len(list(List))-1):\n",
    "        current = [list(List)[go], list(List)[go+1]]\n",
    "        if current not in unique:\n",
    "            unique.append(current)\n",
    "    \n",
    "    con_pro = []\n",
    "    \n",
    "    for everything in unique:\n",
    "        count = 0\n",
    "        for fly in range(len(list(List))-1):\n",
    "            new = [list(List)[fly], list(List)[fly+1]]\n",
    "            sec = list(List)[fly+1]\n",
    "            if new == everything:\n",
    "                count = count + 1\n",
    "        pro_up = count / (len(list(List))-1)\n",
    "        for ss in single_pro:\n",
    "            if ss[0] == sec:\n",
    "                pro_down = ss[1]\n",
    "        con_pro.append([everything, pro_up/pro_down])\n",
    "    \n",
    "    entro_cond = H(list(map(itemgetter(1), con_pro)))\n",
    "    \n",
    "    H_sen = entro_h1 + (len(sen)-1)*entro_cond\n",
    "    \n",
    "    ## to compute mutual information between X and Y\n",
    "\n",
    "    se = []\n",
    "    un_se = []\n",
    "\n",
    "    for eachy in Y1:\n",
    "        sth = list(eachy)\n",
    "        if sth != 'x':\n",
    "            un_se.append(sth)\n",
    "        for q in sth:\n",
    "            if q != 'x':\n",
    "                se.append(q)\n",
    "\n",
    "    #find unique number in se\n",
    "    unise = set(se)\n",
    "    #print(unise)\n",
    "\n",
    "    #find probability of each element in Y\n",
    "    pro_y_ele = []\n",
    "\n",
    "    for chay in unise:\n",
    "            pro_y_ele.append([chay,list(se).count(chay)/len(list(se))])\n",
    "\n",
    "\n",
    "    match_list = []\n",
    "    unique_match_list = []\n",
    "\n",
    "    for s in range(len(list(list(sen)))):\n",
    "        for i in range(len(un_se)):\n",
    "            if un_se[i][s] != 'x':\n",
    "                match_list.append([list(sen)[s], un_se[i][s]])\n",
    "\n",
    "    for x in match_list:\n",
    "        if x not in unique_match_list:\n",
    "            unique_match_list.append(x)\n",
    "\n",
    "    con_hxy = []\n",
    "    con_hxy_complete = []\n",
    "\n",
    "    for each in unique_match_list:\n",
    "        count = 0\n",
    "        second = each[1]\n",
    "        for a in match_list:\n",
    "            if a == each:\n",
    "                count = count + 1\n",
    "        up = count / len(match_list)\n",
    "        for e in pro_y_ele:\n",
    "            if e[0] == second:\n",
    "                down = e[1]\n",
    "        con_hxy.append(up/down)\n",
    "        con_hxy_complete.append([each, up/down])\n",
    "\n",
    "    entro_con_xy1 = 0\n",
    "\n",
    "    for aa in con_hxy:\n",
    "        if aa != 0:\n",
    "            entro_con_xy1 = entro_con_xy1 - aa * math.log(aa,2)\n",
    "\n",
    "    #print(entro_con_xy1)\n",
    "\n",
    "    # here compute the other half of H(X|Y)\n",
    "    to_match_con = []\n",
    "    to_match_down = []\n",
    "\n",
    "    for s in range(len(list(sen))-1):\n",
    "        for i in range(len(un_se)):\n",
    "            if un_se[i][s] != 'x' and un_se[i][s+1] != 'x':\n",
    "                to_match_con.append([list(sen)[s], list(sen)[s+1], un_se[i][s], un_se[i][s+1]])\n",
    "                to_match_down.append([list(sen)[s], un_se[i][s], un_se[i][s+1]])\n",
    "\n",
    "    # find unique quardplets \n",
    "    unique_to_match_con = []\n",
    "    unique_down = []\n",
    "\n",
    "    for x in to_match_con:\n",
    "        if x not in unique_to_match_con:\n",
    "            unique_to_match_con.append(x)\n",
    "\n",
    "    for q in to_match_down:\n",
    "        if q not in unique_down:\n",
    "            unique_down.append(q)\n",
    "\n",
    "    #print(unique_down)\n",
    "\n",
    "    # find each probability\n",
    "    # for up\n",
    "    up_p = []\n",
    "    for unup in unique_to_match_con:\n",
    "        count = 0\n",
    "        for q in to_match_con:\n",
    "            if q == unup:\n",
    "                count = count + 1\n",
    "        up_p.append([unup, count/len(to_match_con)])\n",
    "\n",
    "    #print(up_p)\n",
    "\n",
    "    down_p = []\n",
    "    for d in unique_down:\n",
    "        c = 0\n",
    "        for s in to_match_down:\n",
    "            if s == d:\n",
    "                c = c + 1\n",
    "        down_p.append([d, c/len(to_match_down)])\n",
    "\n",
    "    #print(down_p)\n",
    "\n",
    "    conp = []\n",
    "    to_test = []\n",
    "\n",
    "    for fi in range(len(up_p)):\n",
    "        for ss in range(len(down_p)):\n",
    "            if up_p[fi][0][0] == down_p[ss][0][0] and up_p[fi][0][2] == down_p[ss][0][1] and up_p[fi][0][3] == down_p[ss][0][2]:\n",
    "                conp.append(up_p[fi][1]/down_p[ss][1])\n",
    "                to_test.append(up_p[fi])\n",
    "\n",
    "    errors = []\n",
    "\n",
    "    for q in to_test:\n",
    "        if q[0][0] != q[0][2] or q[0][1] != q[0][3]:\n",
    "            errors.append(q)\n",
    "\n",
    "    print(\"errors come from: \", errors)\n",
    "\n",
    "    entro_con_xy2 = 0\n",
    "\n",
    "    for aa in conp:\n",
    "        entro_con_xy2 = entro_con_xy2 - aa * math.log(aa,2)\n",
    "\n",
    "    MI = H_sen - entro_con_xy1 - (len(list(sen))-1) * entro_con_xy2\n",
    "    \n",
    "    print(\"Input entropy: \", H_sen, \"bits\")\n",
    "    print(\"Mutual information: \", MI, \"bits\")\n",
    "    print(\"Equivocation: \", entro_con_xy1 - (len(list(sen))-1) * entro_con_xy2, \"bits\")\n",
    "    \n",
    "    if t == 0:\n",
    "        print(\"Throught is not available\")\n",
    "    else:\n",
    "        print(\"Thoughput: \", MI/t, \"bit/s\")\n"
   ]
  },
  {
   "cell_type": "code",
   "execution_count": 16,
   "metadata": {
    "collapsed": true
   },
   "outputs": [],
   "source": [
    "## to compute the conventional text entry metrics\n",
    "def Usual_Measure(stimulus, ainput, time):\n",
    "    \n",
    "    # compute word per minute\n",
    "    \n",
    "    WPM = len(ainput) / 5 / time * 60\n",
    "    \n",
    "    # compute error rate based on levenshtein distance\n",
    "    er = []\n",
    "    for einput in ainput:\n",
    "        if len(einput) > len(stimulus):\n",
    "            er.append(stringdist.rdlevenshtein(einput, stimulus)/len(einput))\n",
    "        else:\n",
    "            er.append(stringdist.rdlevenshtein(einput, stimulus)/len(stimulus))\n",
    "            \n",
    "    error_rate = statistics.mean(er)\n",
    "    \n",
    "    # compute keystrokes per character\n",
    "    \n",
    "\n",
    "    print(\"Error rate: \", error_rate)\n",
    "    print(\"Word Per Minute: \", WPM, \"word per minute\")\n",
    "    "
   ]
  },
  {
   "cell_type": "code",
   "execution_count": 18,
   "metadata": {},
   "outputs": [
    {
     "name": "stdout",
     "output_type": "stream",
     "text": [
      "errors come from:  []\n",
      "Input entropy:  67.7911932778782 bits\n",
      "Mutual information:  67.7911932778782 bits\n",
      "Equivocation:  0.0 bits\n",
      "Throught is not available\n"
     ]
    }
   ],
   "source": [
    "L1 = \"ask ls ls ask ksa lsk sks las lala sks skl alsk ska\"\n",
    "\n",
    "stimulus1 = \"ask las ks\"\n",
    "\n",
    "Y1 = [\"ask las ks\", \"ask las ks\"]\n",
    "\n",
    "Info_Measure(L1,stimulus1,Y1,0)\n",
    "\n",
    "## TO DO: discuss what the differences between the entropy and perplexity\n",
    "\n",
    "## TO DO: change the language model to discover the differences"
   ]
  },
  {
   "cell_type": "code",
   "execution_count": 19,
   "metadata": {},
   "outputs": [
    {
     "name": "stdout",
     "output_type": "stream",
     "text": [
      "please type: ask las ks ask las ks\n",
      "errors come from:  []\n",
      "Input entropy:  67.7911932778782 bits\n",
      "Mutual information:  67.7911932778782 bits\n",
      "Equivocation:  0.0 bits\n",
      "Thoughput:  26.76632966270586 bit/s\n",
      "Error rate:  0.0\n",
      "Word Per Minute:  14.214056741966976 word per minute\n"
     ]
    }
   ],
   "source": [
    "start = time.time()\n",
    "user_type = input(\"please type: ask las ks \")\n",
    "end = time.time()\n",
    "time_spent = end - start\n",
    "\n",
    "Y1.append(user_type)\n",
    "Info_Measure(L1,stimulus1,Y1,time_spent)\n",
    "Usual_Measure(stimulus1, Y1, time_spent)\n",
    "\n",
    "## TO DO: think about how to deal with other types of errors: omission, transposition, etc...\n"
   ]
  },
  {
   "cell_type": "markdown",
   "metadata": {
    "collapsed": true
   },
   "source": [
    "## TODO:\n",
    "\n",
    "* tell each other your text entry rate in bit per second\n",
    "* implement the intelligent text entry method that you learned earlier\n",
    "* try a good decoder and a bad decoder to see how the measures change\n",
    "\n"
   ]
  },
  {
   "cell_type": "code",
   "execution_count": null,
   "metadata": {
    "collapsed": true
   },
   "outputs": [],
   "source": []
  }
 ],
 "metadata": {
  "kernelspec": {
   "display_name": "Python 3",
   "language": "python",
   "name": "python3"
  },
  "language_info": {
   "codemirror_mode": {
    "name": "ipython",
    "version": 3
   },
   "file_extension": ".py",
   "mimetype": "text/x-python",
   "name": "python",
   "nbconvert_exporter": "python",
   "pygments_lexer": "ipython3",
   "version": "3.6.4"
  }
 },
 "nbformat": 4,
 "nbformat_minor": 2
}
